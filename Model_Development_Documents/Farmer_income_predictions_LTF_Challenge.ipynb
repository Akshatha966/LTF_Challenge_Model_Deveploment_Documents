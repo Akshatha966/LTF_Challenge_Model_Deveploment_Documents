{
  "nbformat": 4,
  "nbformat_minor": 0,
  "metadata": {
    "colab": {
      "provenance": []
    },
    "kernelspec": {
      "name": "python3",
      "display_name": "Python 3"
    },
    "language_info": {
      "name": "python"
    }
  },
  "cells": [
    {
      "cell_type": "code",
      "execution_count": 1,
      "metadata": {
        "colab": {
          "base_uri": "https://localhost:8080/",
          "height": 73
        },
        "id": "7xxVApyBTiVP",
        "outputId": "95698366-530d-4e29-c93f-dd1dd14200eb"
      },
      "outputs": [
        {
          "output_type": "display_data",
          "data": {
            "text/plain": [
              "<IPython.core.display.HTML object>"
            ],
            "text/html": [
              "\n",
              "     <input type=\"file\" id=\"files-0fb0db3f-f63a-4c55-9c9c-73d8ea6d0235\" name=\"files[]\" multiple disabled\n",
              "        style=\"border:none\" />\n",
              "     <output id=\"result-0fb0db3f-f63a-4c55-9c9c-73d8ea6d0235\">\n",
              "      Upload widget is only available when the cell has been executed in the\n",
              "      current browser session. Please rerun this cell to enable.\n",
              "      </output>\n",
              "      <script>// Copyright 2017 Google LLC\n",
              "//\n",
              "// Licensed under the Apache License, Version 2.0 (the \"License\");\n",
              "// you may not use this file except in compliance with the License.\n",
              "// You may obtain a copy of the License at\n",
              "//\n",
              "//      http://www.apache.org/licenses/LICENSE-2.0\n",
              "//\n",
              "// Unless required by applicable law or agreed to in writing, software\n",
              "// distributed under the License is distributed on an \"AS IS\" BASIS,\n",
              "// WITHOUT WARRANTIES OR CONDITIONS OF ANY KIND, either express or implied.\n",
              "// See the License for the specific language governing permissions and\n",
              "// limitations under the License.\n",
              "\n",
              "/**\n",
              " * @fileoverview Helpers for google.colab Python module.\n",
              " */\n",
              "(function(scope) {\n",
              "function span(text, styleAttributes = {}) {\n",
              "  const element = document.createElement('span');\n",
              "  element.textContent = text;\n",
              "  for (const key of Object.keys(styleAttributes)) {\n",
              "    element.style[key] = styleAttributes[key];\n",
              "  }\n",
              "  return element;\n",
              "}\n",
              "\n",
              "// Max number of bytes which will be uploaded at a time.\n",
              "const MAX_PAYLOAD_SIZE = 100 * 1024;\n",
              "\n",
              "function _uploadFiles(inputId, outputId) {\n",
              "  const steps = uploadFilesStep(inputId, outputId);\n",
              "  const outputElement = document.getElementById(outputId);\n",
              "  // Cache steps on the outputElement to make it available for the next call\n",
              "  // to uploadFilesContinue from Python.\n",
              "  outputElement.steps = steps;\n",
              "\n",
              "  return _uploadFilesContinue(outputId);\n",
              "}\n",
              "\n",
              "// This is roughly an async generator (not supported in the browser yet),\n",
              "// where there are multiple asynchronous steps and the Python side is going\n",
              "// to poll for completion of each step.\n",
              "// This uses a Promise to block the python side on completion of each step,\n",
              "// then passes the result of the previous step as the input to the next step.\n",
              "function _uploadFilesContinue(outputId) {\n",
              "  const outputElement = document.getElementById(outputId);\n",
              "  const steps = outputElement.steps;\n",
              "\n",
              "  const next = steps.next(outputElement.lastPromiseValue);\n",
              "  return Promise.resolve(next.value.promise).then((value) => {\n",
              "    // Cache the last promise value to make it available to the next\n",
              "    // step of the generator.\n",
              "    outputElement.lastPromiseValue = value;\n",
              "    return next.value.response;\n",
              "  });\n",
              "}\n",
              "\n",
              "/**\n",
              " * Generator function which is called between each async step of the upload\n",
              " * process.\n",
              " * @param {string} inputId Element ID of the input file picker element.\n",
              " * @param {string} outputId Element ID of the output display.\n",
              " * @return {!Iterable<!Object>} Iterable of next steps.\n",
              " */\n",
              "function* uploadFilesStep(inputId, outputId) {\n",
              "  const inputElement = document.getElementById(inputId);\n",
              "  inputElement.disabled = false;\n",
              "\n",
              "  const outputElement = document.getElementById(outputId);\n",
              "  outputElement.innerHTML = '';\n",
              "\n",
              "  const pickedPromise = new Promise((resolve) => {\n",
              "    inputElement.addEventListener('change', (e) => {\n",
              "      resolve(e.target.files);\n",
              "    });\n",
              "  });\n",
              "\n",
              "  const cancel = document.createElement('button');\n",
              "  inputElement.parentElement.appendChild(cancel);\n",
              "  cancel.textContent = 'Cancel upload';\n",
              "  const cancelPromise = new Promise((resolve) => {\n",
              "    cancel.onclick = () => {\n",
              "      resolve(null);\n",
              "    };\n",
              "  });\n",
              "\n",
              "  // Wait for the user to pick the files.\n",
              "  const files = yield {\n",
              "    promise: Promise.race([pickedPromise, cancelPromise]),\n",
              "    response: {\n",
              "      action: 'starting',\n",
              "    }\n",
              "  };\n",
              "\n",
              "  cancel.remove();\n",
              "\n",
              "  // Disable the input element since further picks are not allowed.\n",
              "  inputElement.disabled = true;\n",
              "\n",
              "  if (!files) {\n",
              "    return {\n",
              "      response: {\n",
              "        action: 'complete',\n",
              "      }\n",
              "    };\n",
              "  }\n",
              "\n",
              "  for (const file of files) {\n",
              "    const li = document.createElement('li');\n",
              "    li.append(span(file.name, {fontWeight: 'bold'}));\n",
              "    li.append(span(\n",
              "        `(${file.type || 'n/a'}) - ${file.size} bytes, ` +\n",
              "        `last modified: ${\n",
              "            file.lastModifiedDate ? file.lastModifiedDate.toLocaleDateString() :\n",
              "                                    'n/a'} - `));\n",
              "    const percent = span('0% done');\n",
              "    li.appendChild(percent);\n",
              "\n",
              "    outputElement.appendChild(li);\n",
              "\n",
              "    const fileDataPromise = new Promise((resolve) => {\n",
              "      const reader = new FileReader();\n",
              "      reader.onload = (e) => {\n",
              "        resolve(e.target.result);\n",
              "      };\n",
              "      reader.readAsArrayBuffer(file);\n",
              "    });\n",
              "    // Wait for the data to be ready.\n",
              "    let fileData = yield {\n",
              "      promise: fileDataPromise,\n",
              "      response: {\n",
              "        action: 'continue',\n",
              "      }\n",
              "    };\n",
              "\n",
              "    // Use a chunked sending to avoid message size limits. See b/62115660.\n",
              "    let position = 0;\n",
              "    do {\n",
              "      const length = Math.min(fileData.byteLength - position, MAX_PAYLOAD_SIZE);\n",
              "      const chunk = new Uint8Array(fileData, position, length);\n",
              "      position += length;\n",
              "\n",
              "      const base64 = btoa(String.fromCharCode.apply(null, chunk));\n",
              "      yield {\n",
              "        response: {\n",
              "          action: 'append',\n",
              "          file: file.name,\n",
              "          data: base64,\n",
              "        },\n",
              "      };\n",
              "\n",
              "      let percentDone = fileData.byteLength === 0 ?\n",
              "          100 :\n",
              "          Math.round((position / fileData.byteLength) * 100);\n",
              "      percent.textContent = `${percentDone}% done`;\n",
              "\n",
              "    } while (position < fileData.byteLength);\n",
              "  }\n",
              "\n",
              "  // All done.\n",
              "  yield {\n",
              "    response: {\n",
              "      action: 'complete',\n",
              "    }\n",
              "  };\n",
              "}\n",
              "\n",
              "scope.google = scope.google || {};\n",
              "scope.google.colab = scope.google.colab || {};\n",
              "scope.google.colab._files = {\n",
              "  _uploadFiles,\n",
              "  _uploadFilesContinue,\n",
              "};\n",
              "})(self);\n",
              "</script> "
            ]
          },
          "metadata": {}
        },
        {
          "output_type": "stream",
          "name": "stdout",
          "text": [
            "Saving Pearl Challenge data with dictionary_For_Share_v4.xlsx to Pearl Challenge data with dictionary_For_Share_v4.xlsx\n"
          ]
        }
      ],
      "source": [
        "from google.colab import files\n",
        "uploaded = files.upload()\n"
      ]
    },
    {
      "cell_type": "code",
      "source": [
        "import pandas as pd\n",
        "import numpy as np\n",
        "from sklearn.model_selection import train_test_split\n",
        "from sklearn.preprocessing import LabelEncoder\n",
        "from sklearn.ensemble import RandomForestRegressor\n",
        "from sklearn.metrics import mean_squared_error\n",
        "from sklearn.impute import SimpleImputer\n",
        "\n",
        "# Load Excel file and check sheets\n",
        "xls = pd.ExcelFile('Pearl Challenge data with dictionary_For_Share_v4.xlsx')\n",
        "print(xls.sheet_names)  # Optional: verify sheet names\n",
        "\n",
        "# Load the correct sheet\n",
        "df = pd.read_excel(xls, sheet_name='TrainData')  # ✅ Use correct sheet\n",
        "\n",
        "# Drop unnecessary columns (like IDs if present)\n",
        "df = df.drop(columns=['FarmerID'], errors='ignore')  # Modify if needed\n",
        "\n",
        "# Set target column\n",
        "target_column = 'Target_Variable/Total Income'\n",
        "X = df.drop(columns=[target_column])\n",
        "y = df[target_column]\n",
        "\n",
        "# Handle missing values\n",
        "cat_cols = X.select_dtypes(include=['object']).columns\n",
        "num_cols = X.select_dtypes(include=['number']).columns\n",
        "\n",
        "cat_imputer = SimpleImputer(strategy='most_frequent')\n",
        "num_imputer = SimpleImputer(strategy='mean')\n",
        "\n",
        "X[cat_cols] = cat_imputer.fit_transform(X[cat_cols])\n",
        "X[num_cols] = num_imputer.fit_transform(X[num_cols])\n",
        "\n",
        "# Label encode categorical variables\n",
        "encoder = LabelEncoder()\n",
        "for col in cat_cols:\n",
        "    X[col] = encoder.fit_transform(X[col])\n",
        "\n",
        "# Train/test split\n",
        "X_train, X_val, y_train, y_val = train_test_split(X, y, test_size=0.2, random_state=42)\n",
        "\n",
        "# Train model\n",
        "model = RandomForestRegressor(n_estimators=100, random_state=42)\n",
        "model.fit(X_train, y_train)\n",
        "\n",
        "# Evaluate\n",
        "y_pred = model.predict(X_val)\n",
        "rmse = np.sqrt(mean_squared_error(y_val, y_pred))\n",
        "print(f\"Validation RMSE: {rmse:.2f}\")\n"
      ],
      "metadata": {
        "colab": {
          "base_uri": "https://localhost:8080/"
        },
        "id": "NIX2u1KoU25m",
        "outputId": "5a15f2d3-a067-4426-dcdf-8420014b70bc"
      },
      "execution_count": 4,
      "outputs": [
        {
          "output_type": "stream",
          "name": "stdout",
          "text": [
            "['TrainData', 'TestData', 'Dictionary']\n",
            "Validation RMSE: 627944.33\n"
          ]
        }
      ]
    },
    {
      "cell_type": "code",
      "source": [
        "import pandas as pd\n",
        "import numpy as np\n",
        "from sklearn.preprocessing import LabelEncoder\n",
        "from sklearn.impute import SimpleImputer\n",
        "from sklearn.ensemble import RandomForestRegressor\n",
        "\n",
        "# Load Excel file and check sheets\n",
        "xls = pd.ExcelFile('Pearl Challenge data with dictionary_For_Share_v4.xlsx')\n",
        "print(xls.sheet_names)  # Optional: verify sheet names\n",
        "\n",
        "# Load the correct sheet\n",
        "df = pd.read_excel(xls, sheet_name='TrainData')  # ✅ Use correct sheet\n",
        "\n",
        "# Drop unnecessary columns (like IDs if present)\n",
        "df = df.drop(columns=['FarmerID'], errors='ignore')  # Modify if needed\n",
        "\n",
        "# Set target column\n",
        "target_column = 'Target_Variable/Total Income'\n",
        "X = df.drop(columns=[target_column])\n",
        "y = df[target_column]\n",
        "\n",
        "# Handle missing values\n",
        "cat_cols = X.select_dtypes(include=['object']).columns\n",
        "num_cols = X.select_dtypes(include=['number']).columns\n",
        "\n",
        "cat_imputer = SimpleImputer(strategy='most_frequent')\n",
        "num_imputer = SimpleImputer(strategy='mean')\n",
        "\n",
        "X[cat_cols] = cat_imputer.fit_transform(X[cat_cols])\n",
        "X[num_cols] = num_imputer.fit_transform(X[num_cols])\n",
        "\n",
        "# Label encode categorical variables\n",
        "encoder = LabelEncoder()\n",
        "for col in cat_cols:\n",
        "    X[col] = encoder.fit_transform(X[col])\n",
        "\n",
        "# Train model with optimizations: reduce n_estimators, add max_depth, use parallel processing\n",
        "model = RandomForestRegressor(n_estimators=10, random_state=42, max_depth=10, n_jobs=-1)\n",
        "model.fit(X, y)\n",
        "\n",
        "# Load test data and drop unnecessary columns\n",
        "test_df = pd.read_excel(xls, sheet_name='TestData')\n",
        "\n",
        "# Ensure the test data has the same columns as the training data (order and names)\n",
        "test_df = test_df[X.columns]  # Align the columns in test data to the training data\n",
        "\n",
        "# Handle missing values in the test data using the same imputers from training data\n",
        "test_cat_cols = test_df.select_dtypes(include=['object']).columns\n",
        "test_num_cols = test_df.select_dtypes(include=['number']).columns\n",
        "\n",
        "# Impute missing categorical values\n",
        "test_df[test_cat_cols] = cat_imputer.transform(test_df[test_cat_cols])\n",
        "\n",
        "# Impute missing numerical values\n",
        "test_df[test_num_cols] = num_imputer.transform(test_df[test_num_cols])\n",
        "\n",
        "# Label encode categorical columns in the test set using the same encoder\n",
        "for col in test_cat_cols:\n",
        "    test_df[col] = encoder.transform(test_df[col])\n",
        "\n",
        "# Predict using the trained model\n",
        "test_predictions = model.predict(test_df)\n",
        "\n",
        "# Step 5: Save the predictions to a new DataFrame with FarmerID\n",
        "test_ids = pd.read_excel(xls, sheet_name='TestData')['FarmerID']\n",
        "output_df = pd.DataFrame({\n",
        "    'FarmerID': test_ids,\n",
        "    'Predicted_Income': test_predictions\n",
        "})\n",
        "\n",
        "# Step 6: Save the output predictions to a CSV file\n",
        "output_df.to_csv('test_predictions.csv', index=False)\n",
        "print(\"✅ Predictions saved to test_predictions.csv\")\n"
      ],
      "metadata": {
        "id": "Ok5DcfxLe_FD"
      },
      "execution_count": null,
      "outputs": []
    },
    {
      "cell_type": "code",
      "source": [
        "import pandas as pd\n",
        "import numpy as np\n",
        "from sklearn.impute import SimpleImputer\n",
        "from sklearn.ensemble import RandomForestRegressor\n",
        "from sklearn.preprocessing import OrdinalEncoder\n",
        "\n",
        "# Load Excel file\n",
        "xls = pd.ExcelFile('Pearl Challenge data with dictionary_For_Share_v4.xlsx')\n",
        "\n",
        "# Load training data\n",
        "train_df = pd.read_excel(xls, sheet_name='TrainData')\n",
        "train_df = train_df.drop(columns=['FarmerID'], errors='ignore')\n",
        "\n",
        "# Set target and features\n",
        "target_column = 'Target_Variable/Total Income'\n",
        "X_train = train_df.drop(columns=[target_column])\n",
        "y_train = train_df[target_column]\n",
        "\n",
        "# Separate categorical and numerical columns\n",
        "cat_cols = X_train.select_dtypes(include=['object']).columns\n",
        "num_cols = X_train.select_dtypes(include=['number']).columns\n",
        "\n",
        "# Imputers\n",
        "cat_imputer = SimpleImputer(strategy='most_frequent')\n",
        "num_imputer = SimpleImputer(strategy='mean')\n",
        "\n",
        "X_train[cat_cols] = cat_imputer.fit_transform(X_train[cat_cols])\n",
        "X_train[num_cols] = num_imputer.fit_transform(X_train[num_cols])\n",
        "\n",
        "# Use OrdinalEncoder and handle unknowns\n",
        "encoder = OrdinalEncoder(handle_unknown='use_encoded_value', unknown_value=-1)\n",
        "X_train[cat_cols] = encoder.fit_transform(X_train[cat_cols])\n",
        "\n",
        "# Train model\n",
        "model = RandomForestRegressor(n_estimators=10, random_state=42, max_depth=10, n_jobs=-1)\n",
        "model.fit(X_train, y_train)\n",
        "\n",
        "# Load test data\n",
        "test_df = pd.read_excel(xls, sheet_name='TestData')\n",
        "test_ids = test_df['FarmerID']  # Save IDs before dropping\n",
        "\n",
        "# Ensure same columns\n",
        "test_df = test_df[X_train.columns]\n",
        "\n",
        "# Impute missing values\n",
        "test_df[cat_cols] = cat_imputer.transform(test_df[cat_cols])\n",
        "test_df[num_cols] = num_imputer.transform(test_df[num_cols])\n",
        "\n",
        "# Encode test categorical features\n",
        "test_df[cat_cols] = encoder.transform(test_df[cat_cols])\n",
        "\n",
        "# Predict\n",
        "predictions = model.predict(test_df)\n",
        "\n",
        "# Output to CSV\n",
        "output_df = pd.DataFrame({\n",
        "    'FarmerID': test_ids,\n",
        "    'Predicted_Income': predictions\n",
        "})\n",
        "output_df.to_csv('salary_predictions.csv', index=False)\n",
        "print(\"✅ Predictions saved to salary_predictions.csv\")\n"
      ],
      "metadata": {
        "colab": {
          "base_uri": "https://localhost:8080/"
        },
        "id": "IvYO4wGzg0a_",
        "outputId": "e8e455c4-d6d5-4797-ca43-a789028ff669"
      },
      "execution_count": 22,
      "outputs": [
        {
          "output_type": "stream",
          "name": "stdout",
          "text": [
            "✅ Predictions saved to salary_predictions.csv\n"
          ]
        }
      ]
    },
    {
      "cell_type": "code",
      "source": [
        "# To preview in notebook or script\n",
        "import pandas as pd\n",
        "predictions_df = pd.read_csv('salary_predictions.csv')\n",
        "print(predictions_df.head())\n"
      ],
      "metadata": {
        "colab": {
          "base_uri": "https://localhost:8080/"
        },
        "id": "4UQpLVpEiRjS",
        "outputId": "16bed4f3-78a6-4bfa-d41a-2457b19f7ca4"
      },
      "execution_count": 23,
      "outputs": [
        {
          "output_type": "stream",
          "name": "stdout",
          "text": [
            "           FarmerID  Predicted_Income\n",
            "0   576972022499073      1.242662e+06\n",
            "1   979235081831136      7.754480e+05\n",
            "2   176490610549774      7.606357e+05\n",
            "3   977021407171384      1.382900e+06\n",
            "4  1334154133262320      1.345066e+06\n"
          ]
        }
      ]
    },
    {
      "cell_type": "code",
      "source": [
        "print(predictions_df['Predicted_Income'].describe())\n"
      ],
      "metadata": {
        "colab": {
          "base_uri": "https://localhost:8080/"
        },
        "id": "53JRsi1aiWnS",
        "outputId": "758aa8b2-5282-4734-8d09-4be45242cdc0"
      },
      "execution_count": 24,
      "outputs": [
        {
          "output_type": "stream",
          "name": "stdout",
          "text": [
            "count    1.000000e+04\n",
            "mean     1.231514e+06\n",
            "std      2.233813e+06\n",
            "min      7.348535e+05\n",
            "25%      8.838522e+05\n",
            "50%      1.021344e+06\n",
            "75%      1.208830e+06\n",
            "max      1.126630e+08\n",
            "Name: Predicted_Income, dtype: float64\n"
          ]
        }
      ]
    },
    {
      "cell_type": "code",
      "source": [
        "# Check how many predictions were made\n",
        "print(\"Total farmers in test set:\", len(predictions_df))\n"
      ],
      "metadata": {
        "colab": {
          "base_uri": "https://localhost:8080/"
        },
        "id": "32pQScO5i5Zl",
        "outputId": "7a573c55-7605-4739-f481-89a288304398"
      },
      "execution_count": 25,
      "outputs": [
        {
          "output_type": "stream",
          "name": "stdout",
          "text": [
            "Total farmers in test set: 10000\n"
          ]
        }
      ]
    },
    {
      "cell_type": "code",
      "source": [
        "import pandas as pd\n",
        "\n",
        "xls = pd.ExcelFile('Pearl Challenge data with dictionary_For_Share_v4.xlsx')\n",
        "test_ids = pd.read_excel(xls, sheet_name='TestData')['FarmerID']\n",
        "\n",
        "print(\"Original test farmers:\", len(test_ids))\n",
        "print(\"Predicted farmers:\", len(predictions_df))\n"
      ],
      "metadata": {
        "colab": {
          "base_uri": "https://localhost:8080/"
        },
        "id": "iaGffWYOi8de",
        "outputId": "1e01ebcd-607d-4db6-b852-0678ec4b3928"
      },
      "execution_count": 26,
      "outputs": [
        {
          "output_type": "stream",
          "name": "stdout",
          "text": [
            "Original test farmers: 10000\n",
            "Predicted farmers: 10000\n"
          ]
        }
      ]
    },
    {
      "cell_type": "code",
      "source": [
        "import pandas as pd\n",
        "\n",
        "df = pd.read_csv('salary_predictions.csv')\n",
        "print(df.head())  # Show first few rows\n"
      ],
      "metadata": {
        "colab": {
          "base_uri": "https://localhost:8080/"
        },
        "id": "Kd09n1_NjOp7",
        "outputId": "a53dbf74-bf31-4d4b-f7ab-acac04d9107c"
      },
      "execution_count": 28,
      "outputs": [
        {
          "output_type": "stream",
          "name": "stdout",
          "text": [
            "           FarmerID  Predicted_Income\n",
            "0   576972022499073      1.242662e+06\n",
            "1   979235081831136      7.754480e+05\n",
            "2   176490610549774      7.606357e+05\n",
            "3   977021407171384      1.382900e+06\n",
            "4  1334154133262320      1.345066e+06\n"
          ]
        }
      ]
    },
    {
      "cell_type": "code",
      "source": [
        "from google.colab import files\n",
        "files.download('salary_predictions.csv')\n"
      ],
      "metadata": {
        "colab": {
          "base_uri": "https://localhost:8080/",
          "height": 17
        },
        "id": "B5CI1RhOjY_P",
        "outputId": "90fa1796-4adc-491c-cba9-a8d4aa5c7f72"
      },
      "execution_count": 29,
      "outputs": [
        {
          "output_type": "display_data",
          "data": {
            "text/plain": [
              "<IPython.core.display.Javascript object>"
            ],
            "application/javascript": [
              "\n",
              "    async function download(id, filename, size) {\n",
              "      if (!google.colab.kernel.accessAllowed) {\n",
              "        return;\n",
              "      }\n",
              "      const div = document.createElement('div');\n",
              "      const label = document.createElement('label');\n",
              "      label.textContent = `Downloading \"${filename}\": `;\n",
              "      div.appendChild(label);\n",
              "      const progress = document.createElement('progress');\n",
              "      progress.max = size;\n",
              "      div.appendChild(progress);\n",
              "      document.body.appendChild(div);\n",
              "\n",
              "      const buffers = [];\n",
              "      let downloaded = 0;\n",
              "\n",
              "      const channel = await google.colab.kernel.comms.open(id);\n",
              "      // Send a message to notify the kernel that we're ready.\n",
              "      channel.send({})\n",
              "\n",
              "      for await (const message of channel.messages) {\n",
              "        // Send a message to notify the kernel that we're ready.\n",
              "        channel.send({})\n",
              "        if (message.buffers) {\n",
              "          for (const buffer of message.buffers) {\n",
              "            buffers.push(buffer);\n",
              "            downloaded += buffer.byteLength;\n",
              "            progress.value = downloaded;\n",
              "          }\n",
              "        }\n",
              "      }\n",
              "      const blob = new Blob(buffers, {type: 'application/binary'});\n",
              "      const a = document.createElement('a');\n",
              "      a.href = window.URL.createObjectURL(blob);\n",
              "      a.download = filename;\n",
              "      div.appendChild(a);\n",
              "      a.click();\n",
              "      div.remove();\n",
              "    }\n",
              "  "
            ]
          },
          "metadata": {}
        },
        {
          "output_type": "display_data",
          "data": {
            "text/plain": [
              "<IPython.core.display.Javascript object>"
            ],
            "application/javascript": [
              "download(\"download_d48a616e-99ad-4430-aad5-9f39d7795dda\", \"salary_predictions.csv\", 346844)"
            ]
          },
          "metadata": {}
        }
      ]
    }
  ]
}